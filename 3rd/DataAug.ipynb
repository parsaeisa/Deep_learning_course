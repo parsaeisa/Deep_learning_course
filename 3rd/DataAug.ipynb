{
  "cells": [
    {
      "cell_type": "markdown",
      "metadata": {},
      "source": [
        "# Data Agumentation Problem\n",
        "#### Here you need to compare two models with and without agumentation to see the difference"
      ]
    },
    {
      "cell_type": "markdown",
      "metadata": {},
      "source": [
        "### Import libraries"
      ]
    },
    {
      "cell_type": "code",
      "execution_count": 1,
      "metadata": {
        "id": "DApO-QgeUJyh"
      },
      "outputs": [],
      "source": [
        "import glob\n",
        "import cv2\n",
        "import numpy as np\n",
        "import random"
      ]
    },
    {
      "cell_type": "markdown",
      "metadata": {},
      "source": [
        "### Read Images"
      ]
    },
    {
      "cell_type": "code",
      "execution_count": 2,
      "metadata": {
        "id": "KnJzql-edFlp"
      },
      "outputs": [],
      "source": [
        "# First we should read all the images from the provided directory,\n",
        "# 1. first unzip the .zip file attached with homeworks\n",
        "# 2. read images from directory\n",
        "# 3. create labels array\n",
        "\n",
        "\n",
        "\n",
        "########################\n",
        "## PUT YOUR CODE HERE ##\n",
        "########################\n"
      ]
    },
    {
      "cell_type": "markdown",
      "metadata": {},
      "source": [
        "### Prepare Dataset"
      ]
    },
    {
      "cell_type": "code",
      "execution_count": null,
      "metadata": {
        "id": "AhInWVpUeqI2"
      },
      "outputs": [],
      "source": [
        "# Normalize your dataset in a way to have a image dataset with pixles in range (0 to 1)\n",
        "\n",
        "########################\n",
        "## PUT YOUR CODE HERE ##\n",
        "########################\n"
      ]
    },
    {
      "cell_type": "code",
      "execution_count": null,
      "metadata": {
        "id": "WJvVTTO1gwr4"
      },
      "outputs": [],
      "source": [
        "# Resize your images to (28 * 28)\n",
        "\n",
        "\n",
        "########################\n",
        "## PUT YOUR CODE HERE ##\n",
        "########################\n"
      ]
    },
    {
      "cell_type": "code",
      "execution_count": null,
      "metadata": {
        "id": "hHAp88v5hjOX"
      },
      "outputs": [],
      "source": [
        "# Flatten your dataset images \n",
        "\n",
        "\n",
        "########################\n",
        "## PUT YOUR CODE HERE ##\n",
        "########################\n"
      ]
    },
    {
      "cell_type": "code",
      "execution_count": null,
      "metadata": {
        "id": "YC-_5hy7iQy7"
      },
      "outputs": [],
      "source": [
        "# Check your dataset and labels to be a numpy ndarray of sizes (800, 28 * 28 * 3) and (800, 1) respectively.\n",
        "\n",
        "\n",
        "########################\n",
        "## PUT YOUR CODE HERE ##\n",
        "########################"
      ]
    },
    {
      "cell_type": "markdown",
      "metadata": {},
      "source": [
        "### Create your Model"
      ]
    },
    {
      "cell_type": "code",
      "execution_count": null,
      "metadata": {},
      "outputs": [],
      "source": [
        "from tensorflow.keras.models import Sequential\n",
        "from tensorflow.keras.layers import Dense, Activation\n",
        "from tensorflow.keras.optimizers import Adam\n",
        "from tensorflow.keras.losses import BinaryCrossentropy"
      ]
    },
    {
      "cell_type": "code",
      "execution_count": null,
      "metadata": {},
      "outputs": [],
      "source": [
        "# create a simple model of Keras MLP with desired number of dense layers and units and activation function\n",
        "# don't forget to shuffle the data\n",
        "# this is a binary classification problem\n",
        "\n",
        "\n",
        "\n",
        "########################\n",
        "## PUT YOUR CODE HERE ##\n",
        "########################"
      ]
    },
    {
      "cell_type": "code",
      "execution_count": null,
      "metadata": {},
      "outputs": [],
      "source": [
        "# Split your dataset to test and train with your desired implementation\n",
        "# use sklearn.model_selection.train_test_split\n",
        "\n",
        "\n",
        "########################\n",
        "## PUT YOUR CODE HERE ##\n",
        "########################"
      ]
    },
    {
      "cell_type": "code",
      "execution_count": null,
      "metadata": {},
      "outputs": [],
      "source": [
        "# Compile with your desired optimizer and loss function with 'accuracy' as metric\n",
        "# # Don't forget to monitor the overfitting, you should take care of val_accuracy and val_loss\n",
        "\n",
        "########################\n",
        "## PUT YOUR CODE HERE ##\n",
        "#\n",
        "# uncomment below and complete the code\n",
        "# history = \n",
        "########################\n",
        "\n"
      ]
    },
    {
      "cell_type": "markdown",
      "metadata": {},
      "source": [
        "### Plot results"
      ]
    },
    {
      "cell_type": "code",
      "execution_count": null,
      "metadata": {},
      "outputs": [],
      "source": [
        "# Plot your data\n",
        "\n",
        "import matplotlib.pyplot as plt\n",
        "acc = history.history['accuracy']\n",
        "val_acc = history.history['val_accuracy']\n",
        "loss = history.history['loss']\n",
        "val_loss = history.history['val_loss']\n",
        "\n",
        "epochs = range(len(acc))\n",
        "\n",
        "plt.plot(epochs, acc, 'r', label='Training accuracy')\n",
        "plt.plot(epochs, val_acc, 'b', label='Validation accuracy')\n",
        "plt.title('Training and validation accuracy')\n",
        "plt.legend()\n",
        "\n",
        "plt.figure()\n",
        "\n",
        "plt.plot(epochs, loss, 'r', label='Training Loss')\n",
        "plt.plot(epochs, val_loss, 'b', label='Validation Loss')\n",
        "plt.title('Training and validation loss')\n",
        "plt.legend()\n",
        "\n",
        "plt.show()"
      ]
    },
    {
      "cell_type": "markdown",
      "metadata": {},
      "source": [
        "### Evaluate results"
      ]
    },
    {
      "cell_type": "code",
      "execution_count": null,
      "metadata": {},
      "outputs": [],
      "source": [
        "# Evaluate your model on the test data\n",
        "\n",
        "\n",
        "########################\n",
        "## PUT YOUR CODE HERE ##\n",
        "########################\n"
      ]
    },
    {
      "cell_type": "markdown",
      "metadata": {},
      "source": [
        "# Compare results with and without using agumentation\n",
        "### Now we need to do agumentation to create more images to help us overcome underfitting"
      ]
    },
    {
      "cell_type": "markdown",
      "metadata": {},
      "source": [
        "### Agumentation Methods\n",
        "Here you should do the agumentation methods to produce more images\n"
      ]
    },
    {
      "cell_type": "code",
      "execution_count": 3,
      "metadata": {
        "id": "T6Y6_veDcNwt"
      },
      "outputs": [],
      "source": [
        "# In this cell you need to implement agumentation methods to increase our data\n",
        "# NOTICE! Only use libraries in CV2 or others, DON'T use KERAS and Pytorch!\n",
        "\n",
        "\n",
        "def fill(img, h, w):\n",
        "    ''' \n",
        "    we use this function to resize the shifted image and fill border pixles with different methods\n",
        "    \n",
        "    arguments \n",
        "    input img: a Numpy ndarray from any size of h * w * ch\n",
        "          h: an integer defining the height of target image\n",
        "          w: an integer defining the width of target image\n",
        "    \n",
        "    output: resized and interpolated image \n",
        "\n",
        "    '''\n",
        "        \n",
        "    img = cv2.resize(img, (h, w), cv2.INTER_CUBIC)\n",
        "    return img\n",
        "\n",
        "\n",
        "def horizontal_shift(img, ratio=0.5):\n",
        "\n",
        "    ''' \n",
        "    we use this function to shift the image horizontally with the given ratio\n",
        "    width_target = width_input - ratio * width_input\n",
        "    \n",
        "    Hint: select ratio in range (-ratio to ratio) uniformly, to simulate horizontally shift to right and left with different ratios\n",
        "\n",
        "\n",
        "    arguments \n",
        "    input img: a Numpy ndarray from any size of h * w * ch\n",
        "          ratio: a float number between 0 and 1\n",
        "    \n",
        "    output: resized and interpolated image \n",
        "\n",
        "    '''\n",
        "    \n",
        "    if ratio > 1 or ratio < 0:\n",
        "        print('Value should be less than 1 and greater than 0')\n",
        "        return img\n",
        "    ratio = random.uniform(-ratio, ratio) # you can change this\n",
        "    h, w = img.shape[:2]\n",
        "    to_shift = w*ratio\n",
        "    if ratio > 0:\n",
        "        img = img[:, :int(w-to_shift), :]\n",
        "    if ratio < 0:\n",
        "        img = img[:, int(-1*to_shift):, :]\n",
        "\n",
        "    img = fill(img, h, w) # fill image borders\n",
        "\n",
        "    return img\n"
      ]
    },
    {
      "cell_type": "code",
      "execution_count": 4,
      "metadata": {
        "id": "cmDF6i2kdKli"
      },
      "outputs": [],
      "source": [
        "    \n",
        "def vertical_shift(img, ratio=0.5):\n",
        "\n",
        "    ''' \n",
        "    we use this function to shift the image vertically with the given ratio\n",
        "    width_target = width_input - ratio * width_input\n",
        "    \n",
        "    Hint: select ratio in range (-ratio to ratio) uniformly, to simulate vertically shift to up and down with different ratios\n",
        "\n",
        "\n",
        "    arguments \n",
        "    input img: a Numpy ndarray from any size of h * w * ch\n",
        "          ratio: a float number between 0 and 1\n",
        "    \n",
        "    output: resized and interpolated image \n",
        "\n",
        "    '''\n",
        "\n",
        "    if ratio > 1 or ratio < 0:\n",
        "        print('Value should be less than 1 and greater than 0')\n",
        "        return img\n",
        "    ratio = random.uniform(-ratio, ratio)\n",
        "    h, w = img.shape[:2]\n",
        "    to_shift = h*ratio\n",
        "    if ratio > 0:\n",
        "        img = img[:int(h-to_shift), :, :]\n",
        "    if ratio < 0:\n",
        "        img = img[int(-1*to_shift):, :, :]\n",
        "        \n",
        "    img = fill(img, h, w)\n",
        "\n",
        "    return img\n",
        "\n"
      ]
    },
    {
      "cell_type": "code",
      "execution_count": 6,
      "metadata": {
        "id": "pJ31WDBQdNhz"
      },
      "outputs": [],
      "source": [
        "def brightness(img, low, high):\n",
        "\n",
        "    ''' \n",
        "    we use this function to change the brightness of the image with given high and low values\n",
        "    \n",
        "    Hint: first convert to HSV color domain, Next make your image brighter or darker then convert back to BGR\n",
        "\n",
        "    arguments \n",
        "    input img: a Numpy ndarray from any size of h * w * ch\n",
        "          low:\n",
        "          high:\n",
        "    \n",
        "    output: image with different brightness\n",
        "\n",
        "    '''\n",
        "\n",
        "    value = random.uniform(low, high)\n",
        "    hsv = cv2.cvtColor(img, cv2.COLOR_BGR2HSV)\n",
        "    hsv = np.array(hsv, dtype = np.float64)\n",
        "    hsv[:,:,1] = hsv[:,:,1]*value\n",
        "    hsv[:,:,1][hsv[:,:,1]>255]  = 255\n",
        "    hsv[:,:,2] = hsv[:,:,2]*value \n",
        "    hsv[:,:,2][hsv[:,:,2]>255]  = 255\n",
        "    hsv = np.array(hsv, dtype = np.uint8)\n",
        "    img = cv2.cvtColor(hsv, cv2.COLOR_HSV2BGR)\n",
        "    \n",
        "    return img"
      ]
    },
    {
      "cell_type": "code",
      "execution_count": 7,
      "metadata": {
        "id": "buuw_F7Bdaq-"
      },
      "outputs": [],
      "source": [
        "\n",
        "def zoom(img, value):\n",
        "\n",
        "    ''' \n",
        "    we use this function to zoom the image with given value\n",
        "    \n",
        "    arguments \n",
        "    input img: a Numpy ndarray from any size of h * w * ch\n",
        "          value: an integer number indicating the zoom effect\n",
        "    \n",
        "    output: zoomed image\n",
        "\n",
        "    '''\n",
        "    \n",
        "    if value > 1 or value < 0:\n",
        "        print('Value for zoom should be less than 1 and greater than 0')\n",
        "        return img\n",
        "    value = random.uniform(value, 1)\n",
        "    h, w = img.shape[:2]\n",
        "    h_taken = int(value*h)\n",
        "    w_taken = int(value*w)\n",
        "    h_start = random.randint(0, h-h_taken)\n",
        "    w_start = random.randint(0, w-w_taken)\n",
        "    img = img[h_start:h_start+h_taken, w_start:w_start+w_taken, :]\n",
        "    \n",
        "    img = fill(img, h, w)\n",
        "\n",
        "    return img"
      ]
    },
    {
      "cell_type": "code",
      "execution_count": 8,
      "metadata": {
        "id": "dRQTWQiYde3-"
      },
      "outputs": [],
      "source": [
        "def channel_shift(img, value):\n",
        "\n",
        "    ''' \n",
        "    we use this function to shift color channels to play with colors in the image\n",
        "    \n",
        "    arguments \n",
        "    input img: a Numpy ndarray from any size of h * w * ch\n",
        "          value: an integer number indicating the color change effect\n",
        "    \n",
        "    output: image with changed colors\n",
        "\n",
        "    '''\n",
        "    \n",
        "    value = int(random.uniform(-value, value))\n",
        "    img = img + value\n",
        "    img[:,:,:][img[:,:,:]>255]  = 255\n",
        "    img[:,:,:][img[:,:,:]<0]  = 0\n",
        "    img = img.astype(np.uint8)\n",
        "    \n",
        "    return img"
      ]
    },
    {
      "cell_type": "code",
      "execution_count": 9,
      "metadata": {
        "id": "-8fUbL8odizd"
      },
      "outputs": [],
      "source": [
        "def horizontal_flip(img):\n",
        "\n",
        "    ''' \n",
        "    we use this function to flip the image horizontally\n",
        "\n",
        "    arguments \n",
        "    input img: a Numpy ndarray from any size of h * w * ch\n",
        "    \n",
        "    output: horizontally fliped image\n",
        "\n",
        "    '''\n",
        "\n",
        "    return cv2.flip(img, 1)\n"
      ]
    },
    {
      "cell_type": "code",
      "execution_count": 10,
      "metadata": {
        "id": "_oXvmff4dtd7"
      },
      "outputs": [],
      "source": [
        "def vertical_flip(img):\n",
        "\n",
        "    ''' \n",
        "    we use this function to flip the image vertically\n",
        "    \n",
        "    arguments \n",
        "    input img: a Numpy ndarray from any size of h * w * ch\n",
        "    \n",
        "    output: vertically fliped image\n",
        "\n",
        "    '''\n",
        "    \n",
        "    return cv2.flip(img, 0)\n"
      ]
    },
    {
      "cell_type": "markdown",
      "metadata": {},
      "source": [
        "### Prepare your dataset"
      ]
    },
    {
      "cell_type": "code",
      "execution_count": 11,
      "metadata": {
        "id": "AiAQnha9dwJ8"
      },
      "outputs": [],
      "source": [
        "# For each image in our dataset run the previous methods and create a new dataset\n",
        "\n",
        "    ########################\n",
        "    ## PUT YOUR CODE HERE ##\n",
        "    ########################\n",
        "\n"
      ]
    },
    {
      "cell_type": "code",
      "execution_count": 13,
      "metadata": {
        "id": "INX5G0lfgOz4"
      },
      "outputs": [],
      "source": [
        "\n",
        "# Extend your labels array new size with correct labels maped to each agumented image\n",
        "\n",
        "    ########################\n",
        "    ## PUT YOUR CODE HERE ##\n",
        "    ########################\n"
      ]
    },
    {
      "cell_type": "code",
      "execution_count": 14,
      "metadata": {
        "id": "AhInWVpUeqI2"
      },
      "outputs": [],
      "source": [
        "# Normalize your dataset in a way to have a image dataset with pixles in range (0 to 1)\n",
        "\n",
        "########################\n",
        "## PUT YOUR CODE HERE ##\n",
        "########################\n"
      ]
    },
    {
      "cell_type": "code",
      "execution_count": 15,
      "metadata": {
        "id": "WJvVTTO1gwr4"
      },
      "outputs": [],
      "source": [
        "# Resize your images to (28 * 28)\n",
        "\n",
        "\n",
        "########################\n",
        "## PUT YOUR CODE HERE ##\n",
        "########################\n"
      ]
    },
    {
      "cell_type": "code",
      "execution_count": 16,
      "metadata": {
        "id": "hHAp88v5hjOX"
      },
      "outputs": [],
      "source": [
        "# Flatten your dataset images \n",
        "\n",
        "\n",
        "########################\n",
        "## PUT YOUR CODE HERE ##\n",
        "########################\n"
      ]
    },
    {
      "cell_type": "code",
      "execution_count": 17,
      "metadata": {
        "id": "YC-_5hy7iQy7"
      },
      "outputs": [],
      "source": [
        "# Check your dataset and labels to be a numpy ndarray of sizes (800, 28 * 28 * 3) and (800, 1) respectively.\n",
        "\n",
        "\n",
        "########################\n",
        "## PUT YOUR CODE HERE ##\n",
        "########################"
      ]
    },
    {
      "cell_type": "markdown",
      "metadata": {},
      "source": [
        "### Create your model"
      ]
    },
    {
      "cell_type": "code",
      "execution_count": null,
      "metadata": {},
      "outputs": [],
      "source": [
        "# create a simple model of Keras MLP with desired number of dense layers and units and activation function\n",
        "# don't forget to shuffle the data\n",
        "# this is a binary classification problem\n",
        "\n",
        "\n",
        "\n",
        "########################\n",
        "## PUT YOUR CODE HERE ##\n",
        "########################"
      ]
    },
    {
      "cell_type": "code",
      "execution_count": null,
      "metadata": {},
      "outputs": [],
      "source": [
        "# Split your dataset to test and train with the desired implementation\n",
        "# use sklearn.model_selection.train_test_split\n",
        "\n",
        "\n",
        "########################\n",
        "## PUT YOUR CODE HERE ##\n",
        "########################"
      ]
    },
    {
      "cell_type": "code",
      "execution_count": null,
      "metadata": {},
      "outputs": [],
      "source": [
        "# Compile your model to introduce loss function optimizer and metrices to monitor accuracy metric and train on the data\n",
        "# Don't forget to monitor the overfitting, you should take care of val_accuracy and val_loss\n",
        "\n",
        "########################\n",
        "## PUT YOUR CODE HERE ##\n",
        "#\n",
        "# uncomment below and complete the code\n",
        "# history = \n",
        "########################\n",
        "\n"
      ]
    },
    {
      "cell_type": "markdown",
      "metadata": {},
      "source": [
        "### Plot your results"
      ]
    },
    {
      "cell_type": "code",
      "execution_count": null,
      "metadata": {},
      "outputs": [],
      "source": [
        "# Plot your data\n",
        "\n",
        "import matplotlib.pyplot as plt\n",
        "acc = history.history['accuracy']\n",
        "val_acc = history.history['val_accuracy']\n",
        "loss = history.history['loss']\n",
        "val_loss = history.history['val_loss']\n",
        "\n",
        "epochs = range(len(acc))\n",
        "\n",
        "plt.plot(epochs, acc, 'r', label='Training accuracy')\n",
        "plt.plot(epochs, val_acc, 'b', label='Validation accuracy')\n",
        "plt.title('Training and validation accuracy')\n",
        "plt.legend()\n",
        "\n",
        "plt.figure()\n",
        "\n",
        "plt.plot(epochs, loss, 'r', label='Training Loss')\n",
        "plt.plot(epochs, val_loss, 'b', label='Validation Loss')\n",
        "plt.title('Training and validation loss')\n",
        "plt.legend()\n",
        "\n",
        "plt.show()"
      ]
    },
    {
      "cell_type": "markdown",
      "metadata": {},
      "source": [
        "### Evaluate results"
      ]
    },
    {
      "cell_type": "code",
      "execution_count": null,
      "metadata": {},
      "outputs": [],
      "source": [
        "# Evaluate your model on the test data\n",
        "\n",
        "\n",
        "########################\n",
        "## PUT YOUR CODE HERE ##\n",
        "########################\n"
      ]
    },
    {
      "cell_type": "markdown",
      "metadata": {},
      "source": [
        "# Compare your results with and without using agumentation to see the difference"
      ]
    },
    {
      "cell_type": "markdown",
      "metadata": {},
      "source": [
        "## Optional Bonus Activity"
      ]
    },
    {
      "cell_type": "code",
      "execution_count": 24,
      "metadata": {
        "id": "VuifPrHPm40L"
      },
      "outputs": [],
      "source": [
        "# Optional\n",
        "\n",
        "# Keras data Augmentation\n",
        "\n",
        "#use the bellow links\n",
        "\n",
        "# https://keras.io/guides/keras_cv/custom_image_augmentations/\n",
        "\n",
        "# https://keras.io/api/preprocessing/image/"
      ]
    }
  ],
  "metadata": {
    "colab": {
      "collapsed_sections": [],
      "provenance": []
    },
    "kernelspec": {
      "display_name": "Python 3.10.4 64-bit",
      "language": "python",
      "name": "python3"
    },
    "language_info": {
      "codemirror_mode": {
        "name": "ipython",
        "version": 3
      },
      "file_extension": ".py",
      "mimetype": "text/x-python",
      "name": "python",
      "nbconvert_exporter": "python",
      "pygments_lexer": "ipython3",
      "version": "3.10.4"
    },
    "vscode": {
      "interpreter": {
        "hash": "4ee546d62f846516ddb8e27534e16a3e95e555642571b21ccffd475d8dbd5c7d"
      }
    }
  },
  "nbformat": 4,
  "nbformat_minor": 0
}
