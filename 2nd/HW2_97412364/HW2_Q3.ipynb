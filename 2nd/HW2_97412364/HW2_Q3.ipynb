{
  "cells": [
    {
      "cell_type": "markdown",
      "metadata": {
        "id": "9DGZ7qMLPM_J"
      },
      "source": [
        "## Import some prerequirement"
      ]
    },
    {
      "cell_type": "code",
      "execution_count": null,
      "metadata": {
        "id": "uqz_Q2yROq1g"
      },
      "outputs": [],
      "source": [
        "import os\n",
        "import cv2\n",
        "import numpy as np\n",
        "import tensorflow as tf\n",
        "import matplotlib.pyplot as plt"
      ]
    },
    {
      "cell_type": "markdown",
      "metadata": {
        "id": "Da_-mxp7QdjB"
      },
      "source": [
        "## Set hyperparameters"
      ]
    },
    {
      "cell_type": "code",
      "execution_count": null,
      "metadata": {
        "id": "zRlfdCizMcHG"
      },
      "outputs": [],
      "source": [
        "IMG_WIDTH = None\n",
        "IMG_HEIGHT = None\n",
        "EPOCHS = None\n",
        "BATCH_SIZE= None\n",
        "n_classes = None"
      ]
    },
    {
      "cell_type": "markdown",
      "metadata": {
        "id": "pVp5VcJvc1C2"
      },
      "source": [
        "## Initialize train and test data"
      ]
    },
    {
      "cell_type": "code",
      "execution_count": null,
      "metadata": {
        "id": "5x_C3sDuQmlt"
      },
      "outputs": [],
      "source": [
        "data = np.load('/content/mnist.npz')\n",
        "[x_train, y_train, x_test, y_test] = data['x_train'], data['y_train'], data['x_test'], data['y_test']"
      ]
    },
    {
      "cell_type": "markdown",
      "metadata": {
        "id": "omseU3OQQs4K"
      },
      "source": [
        "## Show dataset"
      ]
    },
    {
      "cell_type": "code",
      "execution_count": null,
      "metadata": {
        "id": "y1XvM-DaPYOG",
        "colab": {
          "base_uri": "https://localhost:8080/",
          "height": 199
        },
        "outputId": "b56ea750-d7ce-4ab9-df85-c8a82f175eeb"
      },
      "outputs": [
        {
          "output_type": "display_data",
          "data": {
            "text/plain": [
              "<Figure size 1800x288 with 8 Axes>"
            ],
            "image/png": "[encoded data removed]"
          },
          "metadata": {}
        }
      ],
      "source": [
        "plt.figure(figsize=(25,4))\n",
        "for i in range(8):\n",
        "    plt.subplot(1,8,i+1)\n",
        "    plt.imshow(x_train[i], cmap='gray')\n",
        "    plt.xticks([])\n",
        "    plt.yticks([])\n",
        "    plt.title(y_train[i])"
      ]
    },
    {
      "cell_type": "markdown",
      "metadata": {
        "id": "VazcvGGRHjZu"
      },
      "source": [
        "## Define model"
      ]
    },
    {
      "cell_type": "code",
      "source": [
        "from tensorflow.keras import layers\n",
        "from tensorflow.keras.models import Sequential"
      ],
      "metadata": {
        "id": "Bu3S-3cWUyx8"
      },
      "execution_count": null,
      "outputs": []
    },
    {
      "cell_type": "code",
      "execution_count": null,
      "metadata": {
        "id": "1TCJHBSUsLSS"
      },
      "outputs": [],
      "source": [
        "def build_model():\n",
        "\n",
        "  model = Sequential()\n",
        "\n",
        "  model.add(layers.Input(shape=(28,28)))\n",
        "  model.add(layers.Flatten())\n",
        "\n",
        "  model.add(layers.Dense(units=128))\n",
        "  model.add(layers.Activation('relu'))\n",
        "\n",
        "  model.add(layers.Dense(units=128))\n",
        "  model.add(layers.Activation('relu'))\n",
        "\n",
        "  model.add(layers.Dense(units=128))\n",
        "  model.add(layers.Activation('relu'))\n",
        "\n",
        "  model.add(layers.Dense(units=10 , activation='softmax'))\n",
        "\n",
        "  return model"
      ]
    },
    {
      "cell_type": "markdown",
      "metadata": {
        "id": "X1QKfUHLKsJ5"
      },
      "source": [
        "## Compile and fit model"
      ]
    },
    {
      "cell_type": "code",
      "source": [
        "from tensorflow.keras.losses import categorical_crossentropy\n",
        "from tensorflow.keras import callbacks\n",
        "\n",
        "def train_model(optimizer):\n",
        "  model = build_model()\n",
        "\n",
        "  # Compile model\n",
        "  model.compile(\n",
        "    optimizer = optimizer, \n",
        "    loss = categorical_crossentropy,\n",
        "    metrics = 'accuracy'\n",
        "  )\n",
        "\n",
        "  # Fit model\n",
        "  history = model.fit(\n",
        "    x_train, \n",
        "    y_train, \n",
        "    batch_size = 64, \n",
        "    epochs = 5,\n",
        "    validation_split = 0.2,\n",
        "    callbacks= callbacks.TensorBoard(log_dir='logs/Base')\n",
        "  )\n"
      ],
      "metadata": {
        "id": "FkvInbZgbVdE"
      },
      "execution_count": null,
      "outputs": []
    },
    {
      "cell_type": "code",
      "execution_count": null,
      "metadata": {
        "id": "1yaeMNzsKxuz"
      },
      "outputs": [],
      "source": [
        "from tensorflow.keras.optimizers import SGD , Adam , Adagrad\n",
        "\n",
        "\n",
        "sgd_optimizer = SGD(learning_rate=0.01 ,name=\"SGD\")\n",
        "train_model(sgd_optimizer)\n",
        "\n",
        "# sgd_optimizer = Adam(learning_rate=0.01 ,name=\"Adam\")\n",
        "# train_model(sgd_optimizer)\n",
        "\n",
        "# sgd_optimizer = Adagrad(learning_rate=0.01 ,name=\"Adagrad\")\n",
        "# train_model(sgd_optimizer)"
      ]
    },
    {
      "cell_type": "markdown",
      "metadata": {
        "id": "y6hFEj66HnQL"
      },
      "source": [
        "## Load and compile best model"
      ]
    },
    {
      "cell_type": "code",
      "execution_count": null,
      "metadata": {
        "id": "WGMIz6WGHiNM"
      },
      "outputs": [],
      "source": [
        "# load best model\n",
        "\n",
        "# compile best model\n"
      ]
    },
    {
      "cell_type": "markdown",
      "metadata": {
        "id": "Ya1E9pHzLOBG"
      },
      "source": [
        "## Evaluate best model"
      ]
    },
    {
      "cell_type": "code",
      "execution_count": null,
      "metadata": {
        "id": "1iJYPtFXHMFb"
      },
      "outputs": [],
      "source": [
        "# evaluate best model"
      ]
    },
    {
      "cell_type": "markdown",
      "metadata": {
        "id": "J8gdZX4QIN3i"
      },
      "source": [
        "## Get Reports"
      ]
    },
    {
      "cell_type": "code",
      "execution_count": null,
      "metadata": {
        "id": "_rXoX8ybIQnQ"
      },
      "outputs": [],
      "source": [
        "# get report of metrics\n",
        "from sklearn.metrics import classification_report, confusion_matrix\n"
      ]
    }
  ],
  "metadata": {
    "accelerator": "GPU",
    "colab": {
      "provenance": []
    },
    "kernelspec": {
      "display_name": "Python 3",
      "language": "python",
      "name": "python3"
    },
    "language_info": {
      "codemirror_mode": {
        "name": "ipython",
        "version": 3
      },
      "file_extension": ".py",
      "mimetype": "text/x-python",
      "name": "python",
      "nbconvert_exporter": "python",
      "pygments_lexer": "ipython3",
      "version": "3.6.8"
    },
    "gpuClass": "standard"
  },
  "nbformat": 4,
  "nbformat_minor": 0
}