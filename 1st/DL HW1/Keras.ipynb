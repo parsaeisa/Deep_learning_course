{
  "nbformat": 4,
  "nbformat_minor": 0,
  "metadata": {
    "colab": {
      "provenance": [],
      "collapsed_sections": []
    },
    "kernelspec": {
      "name": "python3",
      "display_name": "Python 3"
    },
    "language_info": {
      "name": "python"
    }
  },
  "cells": [
    {
      "cell_type": "markdown",
      "metadata": {
        "id": "g7uk8yWkokGr"
      },
      "source": [
        "# Dataset\n",
        "https://www.tensorflow.org/api_docs/python/tf/keras/datasets"
      ]
    },
    {
      "cell_type": "code",
      "metadata": {
        "id": "nVALD1hFofRY"
      },
      "source": [
        "from tensorflow.keras import datasets\n",
        "from tensorflow.keras.utils import to_categorical\n",
        "import matplotlib.pyplot as plt\n",
        "import numpy as np"
      ],
      "execution_count": null,
      "outputs": []
    },
    {
      "cell_type": "markdown",
      "metadata": {
        "id": "gWTHXi1ep0we"
      },
      "source": [
        "## MNIST\n",
        "https://www.tensorflow.org/api_docs/python/tf/keras/datasets/mnist/load_data"
      ]
    },
    {
      "cell_type": "markdown",
      "source": [
        "### Loading dataset and Coverting labels to categorical form\n",
        "https://www.tensorflow.org/api_docs/python/tf/keras/utils/to_categorical"
      ],
      "metadata": {
        "id": "EkSbYJzHym6E"
      }
    },
    {
      "cell_type": "code",
      "metadata": {
        "id": "G_QUf-nTpNLP"
      },
      "source": [
        "(x_train_1, y_train_1), (x_test_1, y_test_1) = datasets.mnist.load_data()\n",
        "y_train_1 = to_categorical(y_train_1, num_classes=10)\n",
        "y_test_1 = to_categorical(y_test_1, num_classes=10)"
      ],
      "execution_count": null,
      "outputs": []
    },
    {
      "cell_type": "markdown",
      "source": [
        "### Train and Test data shapes"
      ],
      "metadata": {
        "id": "AsBhGMkvyFGN"
      }
    },
    {
      "cell_type": "code",
      "metadata": {
        "id": "jVvjb6sLph_z"
      },
      "source": [
        "print(x_train_1.shape)\n",
        "print(y_train_1.shape)"
      ],
      "execution_count": null,
      "outputs": []
    },
    {
      "cell_type": "code",
      "metadata": {
        "id": "NygMmPNZpqk6"
      },
      "source": [
        "print(x_test_1.shape)\n",
        "print(y_test_1.shape)"
      ],
      "execution_count": null,
      "outputs": []
    },
    {
      "cell_type": "markdown",
      "source": [
        "### Showing one the dataset examples"
      ],
      "metadata": {
        "id": "ueAuBtxtzBk3"
      }
    },
    {
      "cell_type": "code",
      "metadata": {
        "id": "06kEayfrqgzM"
      },
      "source": [
        "index = 0\n",
        "fig, (ax1) = plt.subplots(1, 1)\n",
        "ax1.imshow(x_train_1[index])"
      ],
      "execution_count": null,
      "outputs": []
    },
    {
      "cell_type": "markdown",
      "metadata": {
        "id": "7YwcmtmXp-yS"
      },
      "source": [
        "## CIFAR-10\n",
        "https://www.tensorflow.org/api_docs/python/tf/keras/datasets/cifar10/load_data"
      ]
    },
    {
      "cell_type": "markdown",
      "source": [
        "### Loading dataset and Coverting labels to categorical form\n",
        "https://www.tensorflow.org/api_docs/python/tf/keras/utils/to_categorical"
      ],
      "metadata": {
        "id": "hi48RVaKz6yM"
      }
    },
    {
      "cell_type": "code",
      "metadata": {
        "id": "xQxtIuqhpwwL"
      },
      "source": [
        "(x_train_2, y_train_2), (x_test_2, y_test_2) = datasets.cifar10.load_data()\n",
        "y_train_2 = to_categorical(y_train_2, num_classes=10)\n",
        "y_test_2 = to_categorical(y_test_2, num_classes=10)"
      ],
      "execution_count": null,
      "outputs": []
    },
    {
      "cell_type": "markdown",
      "source": [
        "### Train and Test data shapes"
      ],
      "metadata": {
        "id": "W8YHQHg00Oq0"
      }
    },
    {
      "cell_type": "code",
      "metadata": {
        "id": "0oCJRo-EqKfp"
      },
      "source": [
        "print(x_train_2.shape)\n",
        "print(y_train_2.shape)"
      ],
      "execution_count": null,
      "outputs": []
    },
    {
      "cell_type": "code",
      "metadata": {
        "id": "DbOirP-PqNu2"
      },
      "source": [
        "print(x_test_2.shape)\n",
        "print(y_test_2.shape)"
      ],
      "execution_count": null,
      "outputs": []
    },
    {
      "cell_type": "markdown",
      "source": [
        "### Showing one the dataset examples"
      ],
      "metadata": {
        "id": "JGRbv3Tx0VRh"
      }
    },
    {
      "cell_type": "code",
      "metadata": {
        "id": "PRDPVOAmqQjE"
      },
      "source": [
        "index = 4\n",
        "fig, (ax1) = plt.subplots(1, 1)\n",
        "ax1.imshow(x_train_2[index])"
      ],
      "execution_count": null,
      "outputs": []
    },
    {
      "cell_type": "markdown",
      "metadata": {
        "id": "G-xQLrD2rX_D"
      },
      "source": [
        "## FER-2013\n",
        "learn more about FER-2013 dataset:\n",
        "https://www.kaggle.com/datasets/msambare/fer2013"
      ]
    },
    {
      "cell_type": "code",
      "metadata": {
        "id": "kmX6SFoFrd_i"
      },
      "source": [
        "!wget -N -q \"https://raw.githubusercontent.com/nikomadol/datasets/main/FER-2013/archive.zip\"\n",
        "!unzip -n -q archive.zip\n",
        "train_dir = './train/'\n",
        "test_dir = './test/'"
      ],
      "execution_count": null,
      "outputs": []
    },
    {
      "cell_type": "markdown",
      "metadata": {
        "id": "MgvUdeSesHz6"
      },
      "source": [
        "### Image Data Generator\n",
        "https://www.tensorflow.org/api_docs/python/tf/keras/preprocessing/image/ImageDataGenerator"
      ]
    },
    {
      "cell_type": "code",
      "metadata": {
        "id": "x1jTAJBtt_1l"
      },
      "source": [
        "from tensorflow.keras.preprocessing.image import ImageDataGenerator"
      ],
      "execution_count": null,
      "outputs": []
    },
    {
      "cell_type": "markdown",
      "source": [
        "#### Create Image Data Generator for Train and Test sets"
      ],
      "metadata": {
        "id": "NONacoWyQLt6"
      }
    },
    {
      "cell_type": "code",
      "metadata": {
        "id": "ibsA5aaqr643"
      },
      "source": [
        "train_datagen = ImageDataGenerator(\n",
        "    rescale=1./255,\n",
        "    zoom_range=0.3,\n",
        "    horizontal_flip=True,\n",
        "    vertical_flip=False,\n",
        "    validation_split=0.2,\n",
        ")\n",
        "\n",
        "test_datagen = ImageDataGenerator(rescale=1./255)"
      ],
      "execution_count": null,
      "outputs": []
    },
    {
      "cell_type": "markdown",
      "source": [
        "#### Use **.flow_from_directory(directory)** to read Train and Test sets"
      ],
      "metadata": {
        "id": "pbDqvW_SQ4th"
      }
    },
    {
      "cell_type": "code",
      "metadata": {
        "id": "iiGZmiR7tFe5"
      },
      "source": [
        "train_set = train_datagen.flow_from_directory(\n",
        "    train_dir,\n",
        "    batch_size=64,\n",
        "    target_size=(48, 48),\n",
        "    # shuffle=True,\n",
        "    color_mode='grayscale',\n",
        "    class_mode='categorical',\n",
        ")\n",
        "\n",
        "test_set = test_datagen.flow_from_directory(\n",
        "    test_dir,\n",
        "    batch_size=64,\n",
        "    target_size=(48, 48),\n",
        "    # shuffle=True,\n",
        "    color_mode='grayscale',\n",
        "    class_mode='categorical',\n",
        ")"
      ],
      "execution_count": null,
      "outputs": []
    },
    {
      "cell_type": "code",
      "metadata": {
        "id": "cS-22-lZuQRD"
      },
      "source": [
        "print(train_set)\n",
        "print(test_set)"
      ],
      "execution_count": null,
      "outputs": []
    },
    {
      "cell_type": "markdown",
      "metadata": {
        "id": "VIVa8A4Oun6c"
      },
      "source": [
        "# Model\n",
        "https://www.tensorflow.org/api_docs/python/tf/keras/models\n",
        "\n",
        "https://www.tensorflow.org/api_docs/python/tf/keras/layers\n"
      ]
    },
    {
      "cell_type": "code",
      "metadata": {
        "id": "JYhftIS6wH4h"
      },
      "source": [
        "from tensorflow.keras import layers\n",
        "from tensorflow.keras.utils import plot_model"
      ],
      "execution_count": null,
      "outputs": []
    },
    {
      "cell_type": "markdown",
      "metadata": {
        "id": "_d0F574OviHF"
      },
      "source": [
        "## Sequential\n",
        "https://www.tensorflow.org/guide/keras/sequential_model"
      ]
    },
    {
      "cell_type": "code",
      "metadata": {
        "id": "k1-msOy3vdZd"
      },
      "source": [
        "from tensorflow.keras.models import Sequential"
      ],
      "execution_count": null,
      "outputs": []
    },
    {
      "cell_type": "code",
      "metadata": {
        "id": "CJQZG6AAvs70"
      },
      "source": [
        "model_temp_1 = Sequential()\n",
        "\n",
        "# Input Layer\n",
        "# Write your code here\n",
        "\n",
        "# Hidden Layer\n",
        "# Write your code here\n",
        "\n",
        "# Output Layer\n",
        "# Write your code here"
      ],
      "execution_count": null,
      "outputs": []
    },
    {
      "cell_type": "markdown",
      "source": [
        "### Model Summary\n",
        "https://www.tensorflow.org/js/guide/models_and_layers#model_summary"
      ],
      "metadata": {
        "id": "wh621fXMUaYR"
      }
    },
    {
      "cell_type": "code",
      "metadata": {
        "id": "4UnIk6sGxLNh"
      },
      "source": [
        "model_temp_1.summary()"
      ],
      "execution_count": null,
      "outputs": []
    },
    {
      "cell_type": "markdown",
      "source": [
        "### Plotting Model and Save it as **structure_1.png**\n",
        "https://www.tensorflow.org/api_docs/python/tf/keras/utils/plot_model "
      ],
      "metadata": {
        "id": "5cLKoVBwWoab"
      }
    },
    {
      "cell_type": "code",
      "metadata": {
        "id": "SyCzEMRYxLMC"
      },
      "source": [
        "plot_model(\n",
        "    model_temp_1,\n",
        "    to_file=\"structure_1.png\",\n",
        "    show_shapes=True,\n",
        "    show_layer_names=True,\n",
        ")"
      ],
      "execution_count": null,
      "outputs": []
    },
    {
      "cell_type": "markdown",
      "metadata": {
        "id": "a3fGzxhuvlmB"
      },
      "source": [
        "## Functional API \n",
        "https://www.tensorflow.org/guide/keras/functional"
      ]
    },
    {
      "cell_type": "code",
      "metadata": {
        "id": "zJf3UzRzvqAX"
      },
      "source": [
        "from tensorflow.keras.models import Model"
      ],
      "execution_count": null,
      "outputs": []
    },
    {
      "cell_type": "code",
      "metadata": {
        "id": "issu4z2mzlpD"
      },
      "source": [
        "def model_factory(input_shape, num_classes):\n",
        "    # Input Layer\n",
        "    # Write your code here\n",
        "\n",
        "    # Hidden Layer\n",
        "    # Write your code here\n",
        "\n",
        "    # Output Layer\n",
        "    # Write your code here\n",
        "\n",
        "    return Model(inputs= ...., outputs=....)"
      ],
      "execution_count": null,
      "outputs": []
    },
    {
      "cell_type": "code",
      "metadata": {
        "id": "cyiFUQEx1DPw"
      },
      "source": [
        "model_template_2 = model_factory(\n",
        "    input_shape=(50, 50),\n",
        "    num_classes=5,\n",
        ")"
      ],
      "execution_count": null,
      "outputs": []
    },
    {
      "cell_type": "markdown",
      "source": [
        "### Model Summary"
      ],
      "metadata": {
        "id": "fryM17I8YqmD"
      }
    },
    {
      "cell_type": "code",
      "metadata": {
        "id": "ZdHqhV1W1P_6"
      },
      "source": [
        "model_template_2.summary()"
      ],
      "execution_count": null,
      "outputs": []
    },
    {
      "cell_type": "markdown",
      "source": [
        "### Plotting Model and Save it as **structure_2.png**"
      ],
      "metadata": {
        "id": "Il7CnnQfYtFB"
      }
    },
    {
      "cell_type": "code",
      "metadata": {
        "id": "hsAMlz221RCb"
      },
      "source": [
        "plot_model(\n",
        "    model_template_2,\n",
        "    to_file=\"structure_2.png\",\n",
        "    show_shapes=True,\n",
        "    show_layer_names=True,\n",
        ")"
      ],
      "execution_count": null,
      "outputs": []
    },
    {
      "cell_type": "markdown",
      "metadata": {
        "id": "X_k-PnIx7JTi"
      },
      "source": [
        "## Optimizers and Loss\n",
        "https://www.tensorflow.org/api_docs/python/tf/keras/optimizers/SGD\n",
        "\n",
        "https://www.tensorflow.org/api_docs/python/tf/keras/losses"
      ]
    },
    {
      "cell_type": "code",
      "metadata": {
        "id": "Ibu8V5AB7Rrb"
      },
      "source": [
        "from tensorflow.keras.optimizers import SGD"
      ],
      "execution_count": null,
      "outputs": []
    },
    {
      "cell_type": "code",
      "metadata": {
        "id": "jd4JS7mX7P69"
      },
      "source": [
        "# Write your code here\n",
        "sgd_optimizer = ....."
      ],
      "execution_count": null,
      "outputs": []
    },
    {
      "cell_type": "markdown",
      "metadata": {
        "id": "p52dlnj645YI"
      },
      "source": [
        "## Compile, Fit and Evaluation\n",
        "https://www.tensorflow.org/api_docs/python/tf/keras/Model#compile\n",
        "\n",
        "https://www.tensorflow.org/api_docs/python/tf/keras/Model#fit\n",
        "\n",
        "https://www.tensorflow.org/api_docs/python/tf/keras/Model#evaluate\n",
        "\n",
        "https://keras.io/api/models/model_training_apis/#predict-method"
      ]
    },
    {
      "cell_type": "markdown",
      "metadata": {
        "id": "Qj97C2Ie6d49"
      },
      "source": [
        "### MNIST"
      ]
    },
    {
      "cell_type": "code",
      "metadata": {
        "id": "geDiiuHU47VI"
      },
      "source": [
        "# Write your code here\n",
        "model_mnist = model_factory(\n",
        "    .....\n",
        ")\n",
        "\n",
        "# Write your code here\n",
        "model_mnist.compile(\n",
        "    .....\n",
        ")\n",
        "\n",
        "# Write your code here\n",
        "history = model_mnist.fit(\n",
        "   .....\n",
        ")"
      ],
      "execution_count": null,
      "outputs": []
    },
    {
      "cell_type": "markdown",
      "source": [
        "#### Plotting model Loss and Accuracy on train and validation sets per epoch"
      ],
      "metadata": {
        "id": "tD4ee660soz1"
      }
    },
    {
      "cell_type": "code",
      "metadata": {
        "id": "cEdazOlB_Nwm"
      },
      "source": [
        "fig, (ax1, ax2) = plt.subplots(1, 2)\n",
        "\n",
        "ax1.plot(history.history['accuracy'])\n",
        "ax1.plot(history.history['val_accuracy'])\n",
        "ax1.set_title('Model accuracy')\n",
        "ax1.set_ylabel('accuracy')\n",
        "ax1.set_xlabel('epoch')\n",
        "ax1.legend(['training', 'validation'], loc='lower right')\n",
        "\n",
        "ax2.plot(history.history['loss'])\n",
        "ax2.plot(history.history['val_loss'])\n",
        "ax2.set_title('Model loss')\n",
        "ax2.set_ylabel('loss')\n",
        "ax2.set_xlabel('epoch')\n",
        "ax2.legend(['training', 'validation'], loc='upper right')"
      ],
      "execution_count": null,
      "outputs": []
    },
    {
      "cell_type": "markdown",
      "source": [
        "#### Evaluating Test set"
      ],
      "metadata": {
        "id": "Fl9Ux9FWt4Zb"
      }
    },
    {
      "cell_type": "code",
      "metadata": {
        "id": "8LZQk6Tm8wCg"
      },
      "source": [
        "# Write your code here\n",
        "model_mnist.evaluate(\n",
        "    .....\n",
        ")"
      ],
      "execution_count": null,
      "outputs": []
    },
    {
      "cell_type": "markdown",
      "source": [
        "#### Predicting Some samples from Test set"
      ],
      "metadata": {
        "id": "5zN0uxmeu-Ru"
      }
    },
    {
      "cell_type": "code",
      "source": [
        "# Write your code here\n"
      ],
      "metadata": {
        "id": "FjKUvVLjvIy7"
      },
      "execution_count": null,
      "outputs": []
    },
    {
      "cell_type": "markdown",
      "metadata": {
        "id": "LwWDgkDD6jq8"
      },
      "source": [
        "### FER-2013"
      ]
    },
    {
      "cell_type": "code",
      "metadata": {
        "id": "xhpiYihb6UvK"
      },
      "source": [
        "# Write your code here\n",
        "model_fer = model_factory(\n",
        "    .....\n",
        ")\n",
        "\n",
        "# Write your code here\n",
        "model_fer.compile(\n",
        "    .....\n",
        ")\n",
        "\n",
        "# Write your code here\n",
        "history = model_fer.fit(\n",
        "   .....\n",
        ")"
      ],
      "execution_count": null,
      "outputs": []
    },
    {
      "cell_type": "markdown",
      "source": [
        "#### Plotting model Loss and Accuracy on train and validation sets per epoch"
      ],
      "metadata": {
        "id": "tamhcKqjz_7x"
      }
    },
    {
      "cell_type": "code",
      "metadata": {
        "id": "cQIveFdgEMQM"
      },
      "source": [
        "fig, (ax1, ax2) = plt.subplots(1, 2)\n",
        "\n",
        "ax1.plot(history.history['accuracy'])\n",
        "ax1.plot(history.history['val_accuracy'])\n",
        "ax1.set_title('Model accuracy')\n",
        "ax1.set_ylabel('accuracy')\n",
        "ax1.set_xlabel('epoch')\n",
        "ax1.legend(['training', 'validation'], loc='lower right')\n",
        "\n",
        "ax2.plot(history.history['loss'])\n",
        "ax2.plot(history.history['val_loss'])\n",
        "ax2.set_title('Model loss')\n",
        "ax2.set_ylabel('loss')\n",
        "ax2.set_xlabel('epoch')\n",
        "ax2.legend(['training', 'validation'], loc='upper right')"
      ],
      "execution_count": null,
      "outputs": []
    },
    {
      "cell_type": "markdown",
      "source": [
        "#### Evaluating Test set"
      ],
      "metadata": {
        "id": "Mif4KIHT0F6z"
      }
    },
    {
      "cell_type": "code",
      "metadata": {
        "id": "XgC_WGxf9ikw"
      },
      "source": [
        "model_fer.evaluate(\n",
        "    x=test_set,\n",
        ")"
      ],
      "execution_count": null,
      "outputs": []
    },
    {
      "cell_type": "markdown",
      "source": [
        "#### Predicting Some samples from Test set"
      ],
      "metadata": {
        "id": "dT2L0pzV0ZPY"
      }
    },
    {
      "cell_type": "code",
      "source": [
        "prediction = model_fer.predict(test_set)\n",
        "# convert prediction to labels\n",
        "labels = prediction.argmax(axis=-1)\n",
        "\n",
        "# labels list\n",
        "label_list = list(test_set.class_indices.keys())\n",
        "\n",
        "plt.figure()\n",
        "f, axarr = plt.subplots(1,3) \n",
        "\n",
        "# use the created array to output your multiple images.\n",
        "axarr[0].imshow(np.squeeze(test_set[0][0][5]))\n",
        "label_1 = label_list[test_set[0][1][5].argmax(axis=-1)]\n",
        "axarr[1].imshow(np.squeeze(test_set[0][0][29]))\n",
        "label_2 = label_list[test_set[0][1][29].argmax(axis=-1)]\n",
        "axarr[2].imshow(np.squeeze(test_set[0][0][10]))\n",
        "label_3 = label_list[test_set[0][1][10].argmax(axis=-1)]\n",
        "\n",
        "# Show predicted label for each image\n",
        "axarr[0].set_title(f'predicted: {label_list[labels[5]]} \\n actual: {label_1}')\n",
        "axarr[1].set_title(f'label: {label_list[labels[29]]} \\n actual: {label_2}')\n",
        "axarr[2].set_title(f'label: {label_list[labels[10]]} \\n actual: {label_3}')"
      ],
      "metadata": {
        "id": "JzTNAgBa0aME"
      },
      "execution_count": null,
      "outputs": []
    }
  ]
}