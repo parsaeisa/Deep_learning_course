{
  "nbformat": 4,
  "nbformat_minor": 0,
  "metadata": {
    "colab": {
      "provenance": []
    },
    "kernelspec": {
      "name": "python3",
      "display_name": "Python 3"
    },
    "language_info": {
      "name": "python"
    }
  },
  "cells": [
    {
      "cell_type": "code",
      "execution_count": null,
      "metadata": {
        "id": "02ik9B4YDzpA"
      },
      "outputs": [],
      "source": [
        "import sys\n",
        "import glob\n",
        "import cv2\n",
        "import numpy as np\n",
        "import os\n",
        "\n",
        "from shutil import copytree\n",
        "from shutil import rmtree\n",
        "\n",
        "\n",
        "\n",
        "import pickle\n",
        "import math, re\n",
        "from os import path\n",
        "\n",
        "import tensorflow as tf\n",
        "import tensorflow.keras as keras\n",
        "from keras_preprocessing.image import ImageDataGenerator\n",
        "from tensorflow.keras import layers\n",
        "from tensorflow.keras import Sequential, Model\n",
        "from sklearn.model_selection import train_test_split\n",
        "from tensorflow.keras.callbacks import EarlyStopping, ReduceLROnPlateau, ModelCheckpoint\n",
        "from tensorflow.keras.losses import CategoricalCrossentropy\n",
        "from tensorflow.keras.optimizers import Adamax, RMSprop\n",
        "import matplotlib.pyplot as plt\n",
        "\n",
        "import pandas as pd\n",
        "import random\n",
        "import shutil\n",
        "import pathlib"
      ]
    },
    {
      "cell_type": "markdown",
      "source": [
        "## **Data preparation**\n",
        "\n",
        "In this cell you're going to:\n",
        "1.   Read images\n",
        "2.   Preprocess them\n",
        "3.   Create labels from the dirs.\n",
        "\n",
        "Don't forget to create test, val and train sets\n",
        "\n",
        "Split them appropriately\n",
        "\n",
        "If you want to use **ImageDataGenerator** please write your final dataset in a directory\n"
      ],
      "metadata": {
        "id": "k7trQz3vOvt0"
      }
    },
    {
      "cell_type": "code",
      "source": [
        "#####################################\n",
        "##### Your implementation here ######\n",
        "\n",
        "\n",
        "#####################################"
      ],
      "metadata": {
        "id": "Wvj93O5uOq5Q"
      },
      "execution_count": null,
      "outputs": []
    },
    {
      "cell_type": "markdown",
      "source": [
        "## **Define global variable**\n",
        "\n",
        "Feel free to change them"
      ],
      "metadata": {
        "id": "wGRHt1xKQl5I"
      }
    },
    {
      "cell_type": "code",
      "source": [
        "num_classes = 5\n",
        "EPOCHS = 150\n",
        "BATCH_SIZE = 20\n",
        "\n",
        "BASE_FOLDER = './data/'"
      ],
      "metadata": {
        "id": "LgKAYMVDQO2r"
      },
      "execution_count": null,
      "outputs": []
    },
    {
      "cell_type": "markdown",
      "source": [
        "## **Create your own CNN model**"
      ],
      "metadata": {
        "id": "EcK030kfTjlH"
      }
    },
    {
      "cell_type": "code",
      "source": [
        "def create_cnn_model():\n",
        "  '''\n",
        "  In this function you should create your CNN model and define layers\n",
        "  via Sequential or Functional API\n",
        "  \n",
        "  Feel free to set hyperparameters of model as you desired\n",
        "\n",
        "  Then compile your model and define optimizer ans loss function\n",
        "\n",
        "  Please set your metrices to monitor the accuracy\n",
        "\n",
        "  At the end of the code please print the summary of the model\n",
        "\n",
        "  Arguments:\n",
        "  output: created model\n",
        "  '''\n",
        "  #####################################\n",
        "  ##### Your implementation here ######\n",
        "\n",
        "\tmodel = None\n",
        "\n",
        "\n",
        "  #####################################\n",
        "  \n",
        "\treturn model"
      ],
      "metadata": {
        "id": "Fd_B3oMsRUWk"
      },
      "execution_count": null,
      "outputs": []
    },
    {
      "cell_type": "code",
      "source": [
        "def create_callbacks():\n",
        "  '''\n",
        "  We prefer use three of the callbacks in the keras API\n",
        "\n",
        "  1. early stopping: take a look at https://keras.io/api/callbacks/early_stopping/\n",
        "  2. reduce_lr: take a look at https://keras.io/api/callbacks/reduce_lr_on_plateau/\n",
        "  3. model_checkpoints: take a look at https://keras.io/api/callbacks/model_checkpoint/\n",
        "\n",
        "  Arguments:\n",
        "    output: a list of callbacks\n",
        "\n",
        "  '''\n",
        "  #####################################\n",
        "  ##### Your implementation here ######  \n",
        "\n",
        "\n",
        "  callbacks = None\n",
        "\n",
        "\n",
        "  #####################################\n",
        "\n",
        "  return callbacks"
      ],
      "metadata": {
        "id": "k2mnIG0MSe_4"
      },
      "execution_count": null,
      "outputs": []
    },
    {
      "cell_type": "code",
      "source": [
        "def train_model_naive_split():\n",
        "  '''\n",
        "  We need to first read our stored data then fit our created model with provided callbacks\n",
        "\n",
        "  For this use the https://www.tensorflow.org/api_docs/python/tf/keras/preprocessing/image/ImageDataGenerator function\n",
        "\n",
        "  You can load your data in a way you feel comfortable and there is no force to use this methods\n",
        "\n",
        "  outputs: The History of the training process\n",
        "  '''\n",
        "  #####################################\n",
        "  ##### Your implementation here ######  \n",
        "\n",
        "  train_datagen = ImageDataGenerator(....)\n",
        "\n",
        "  train_iterator = train_datagen.flow_from_directory(...)\n",
        "\n",
        "  validation_datagen = ImageDataGenerator(...)\n",
        "\n",
        "  validation_iterator = validation_datagen.flow_from_directory(....)\n",
        "\n",
        "  model = None\n",
        "\n",
        "  history =  model.fit(...)\n",
        "\n",
        "  #####################################\n",
        "\n",
        "  return history"
      ],
      "metadata": {
        "id": "5kDFNRpkS-jg"
      },
      "execution_count": null,
      "outputs": []
    },
    {
      "cell_type": "code",
      "source": [
        "## Train the model\n",
        "\n",
        "history = train_model_naive_split()"
      ],
      "metadata": {
        "id": "MFczBeEqWWnH"
      },
      "execution_count": null,
      "outputs": []
    },
    {
      "cell_type": "code",
      "source": [
        "## just run the bellow cell and see the acc and loss plots\n",
        "\n",
        "acc = history.history['accuracy']\n",
        "val_acc = history.history['val_accuracy']\n",
        "loss = history.history['loss']\n",
        "val_loss = history.history['val_loss']\n",
        "\n",
        "epochs = range(len(acc))\n",
        "\n",
        "plt.plot(epochs, acc, 'r', label='Training accuracy')\n",
        "plt.plot(epochs, val_acc, 'b', label='Validation accuracy')\n",
        "plt.title('Training and validation accuracy')\n",
        "plt.legend()\n",
        "\n",
        "plt.figure()\n",
        "\n",
        "plt.plot(epochs, loss, 'r', label='Training Loss')\n",
        "plt.plot(epochs, val_loss, 'b', label='Validation Loss')\n",
        "plt.title('Training and validation loss')\n",
        "plt.legend()\n",
        "\n",
        "plt.show()"
      ],
      "metadata": {
        "id": "MRtRUeVsWeJR"
      },
      "execution_count": null,
      "outputs": []
    },
    {
      "cell_type": "code",
      "source": [
        "def load_and_predict(model, path):\n",
        "  '''\n",
        "  This function is used to generate the models predictions on test data\n",
        "\n",
        "  If you loaded your data in other way please change the function to produce your predictions correctly\n",
        "\n",
        "  If not, just run the cell\n",
        "  '''\n",
        "  test_generator = ImageDataGenerator(rescale=1. / 255)\n",
        "\n",
        "  test_iterator = test_generator.flow_from_directory(\n",
        "        path,\n",
        "        target_size=(224, 224),\n",
        "        shuffle=False,\n",
        "        class_mode='categorical',\n",
        "        batch_size=1) \n",
        "\n",
        "  ids = []\n",
        "  for filename in test_iterator.filenames:\n",
        "    print(filename)\n",
        "    ids.append(filename)\n",
        "\n",
        "  predict_result = model.predict(test_iterator, steps=len(test_iterator.filenames))\n",
        "  predictions = []\n",
        "  for index, prediction in enumerate(predict_result):\n",
        "    classes = np.argmax(prediction)\n",
        "    predictions.append([ids[index], classes])\n",
        "  predictions.sort()\n",
        "\n",
        "  return predictions"
      ],
      "metadata": {
        "id": "5iEUcT-yWtPl"
      },
      "execution_count": null,
      "outputs": []
    },
    {
      "cell_type": "code",
      "source": [
        "def store_prediction(model_path, test_data_path, result_path):\n",
        "  '''\n",
        "  A function to run the load and predict function\n",
        "\n",
        "  just run the cell\n",
        "  '''\n",
        "  model = keras.models.load_model(model_path, compile = True)\n",
        "\n",
        "  predictions = load_and_predict(model, test_data_path)\n",
        "\n",
        "  df = pd.DataFrame(data=predictions, columns=['image_id', 'label'])\n",
        "  df = df.set_index(['image_id'])\n",
        "\n",
        "  print(df.head())\n",
        "  print('Writing submission')\n",
        "  df.to_csv(result_path)"
      ],
      "metadata": {
        "id": "JnnoIf87Yrau"
      },
      "execution_count": null,
      "outputs": []
    },
    {
      "cell_type": "code",
      "source": [
        "store_prediction('./models/IranianCars/my_own_model.h5', './data/test/', './results.csv')"
      ],
      "metadata": {
        "id": "nQJQGX8JW60A"
      },
      "execution_count": null,
      "outputs": []
    },
    {
      "cell_type": "markdown",
      "source": [
        "Here your own CNN model implementation has done"
      ],
      "metadata": {
        "id": "DzosYT3jaWXY"
      }
    },
    {
      "cell_type": "markdown",
      "source": [
        "## **Transfer learning from a pre-trained model**\n",
        "\n",
        "This implementation is as the same to the previous one except in the model creation and training sections\n",
        "\n",
        "So use the other ones for code simplicity "
      ],
      "metadata": {
        "id": "dmOU1p6KaVaP"
      }
    },
    {
      "cell_type": "code",
      "source": [
        "def create_cnn_model():\n",
        "  from keras.applications.mobilenet_v2 import MobileNetV2, preprocess_input\n",
        "  '''\n",
        "  In this function you need to implement a cnn model from pre-trained one\n",
        "\n",
        "  We recommand use the MobileNetV2 network\n",
        "\n",
        "  See the bellow link:\n",
        "\n",
        "  https://keras.io/api/applications/mobilenet/\n",
        "\n",
        "  don't forget to fine-tune the last layer\n",
        "\n",
        "  Use the imagenet weights\n",
        "\n",
        "  '''\n",
        "  #####################################\n",
        "  ##### Your implementation here ######    \n",
        "  model = None\n",
        "\n",
        "\n",
        "  #####################################\n",
        "  return model"
      ],
      "metadata": {
        "id": "0wzy1GJsZ_Zs"
      },
      "execution_count": null,
      "outputs": []
    },
    {
      "cell_type": "code",
      "source": [
        "## train the model but don't forget adapte the hyper-parameters\n",
        "\n",
        "history=train_model_naive_split()"
      ],
      "metadata": {
        "id": "YRGQaUKOdOv3"
      },
      "execution_count": null,
      "outputs": []
    },
    {
      "cell_type": "code",
      "source": [
        "acc = history.history['accuracy']\n",
        "val_acc = history.history['val_accuracy']\n",
        "loss = history.history['loss']\n",
        "val_loss = history.history['val_loss']\n",
        "\n",
        "epochs = range(len(acc))\n",
        "\n",
        "plt.plot(epochs, acc, 'r', label='Training accuracy')\n",
        "plt.plot(epochs, val_acc, 'b', label='Validation accuracy')\n",
        "plt.title('Training and validation accuracy')\n",
        "plt.legend()\n",
        "\n",
        "plt.figure()\n",
        "\n",
        "plt.plot(epochs, loss, 'r', label='Training Loss')\n",
        "plt.plot(epochs, val_loss, 'b', label='Validation Loss')\n",
        "plt.title('Training and validation loss')\n",
        "plt.legend()\n",
        "\n",
        "plt.show()"
      ],
      "metadata": {
        "id": "AUNsb1LydmPx"
      },
      "execution_count": null,
      "outputs": []
    },
    {
      "cell_type": "code",
      "source": [
        "store_prediction('./models/IranianCars/my_own_model.h5', './data/test/', './results.csv')"
      ],
      "metadata": {
        "id": "VWJ3V90mdvoY"
      },
      "execution_count": null,
      "outputs": []
    },
    {
      "cell_type": "markdown",
      "source": [
        "## **Grad-CAM**\n",
        "For some random images from different classes, show the heatmaps based on the grad-cam algorithm that you have learned."
      ],
      "metadata": {
        "id": "jIKSfy8FQW-H"
      }
    },
    {
      "cell_type": "code",
      "source": [],
      "metadata": {
        "id": "LxEYBbYPQf4R"
      },
      "execution_count": null,
      "outputs": []
    }
  ]
}