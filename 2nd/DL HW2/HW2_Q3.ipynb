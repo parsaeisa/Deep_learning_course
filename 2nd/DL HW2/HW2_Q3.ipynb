{
  "cells": [
    {
      "cell_type": "markdown",
      "metadata": {
        "id": "9DGZ7qMLPM_J"
      },
      "source": [
        "## Import some prerequirement"
      ]
    },
    {
      "cell_type": "code",
      "execution_count": null,
      "metadata": {
        "id": "uqz_Q2yROq1g"
      },
      "outputs": [],
      "source": [
        "import os\n",
        "import cv2\n",
        "import numpy as np\n",
        "import tensorflow as tf\n",
        "import matplotlib.pyplot as plt"
      ]
    },
    {
      "cell_type": "markdown",
      "metadata": {
        "id": "Da_-mxp7QdjB"
      },
      "source": [
        "## Set hyperparameters"
      ]
    },
    {
      "cell_type": "code",
      "execution_count": null,
      "metadata": {
        "id": "zRlfdCizMcHG"
      },
      "outputs": [],
      "source": [
        "IMG_WIDTH = None\n",
        "IMG_HEIGHT = None\n",
        "EPOCHS = None\n",
        "BATCH_SIZE= None\n",
        "n_classes = None"
      ]
    },
    {
      "cell_type": "markdown",
      "metadata": {
        "id": "pVp5VcJvc1C2"
      },
      "source": [
        "## Initialize train and test data"
      ]
    },
    {
      "cell_type": "code",
      "execution_count": null,
      "metadata": {
        "id": "5x_C3sDuQmlt"
      },
      "outputs": [],
      "source": [
        "data = np.load('mnist.npz')\n",
        "[x_train, y_train, x_test, y_test] = data['x_train'], data['y_train'], data['x_test'], data['y_test']"
      ]
    },
    {
      "cell_type": "markdown",
      "metadata": {
        "id": "omseU3OQQs4K"
      },
      "source": [
        "## Show dataset"
      ]
    },
    {
      "cell_type": "code",
      "execution_count": null,
      "metadata": {
        "id": "y1XvM-DaPYOG"
      },
      "outputs": [],
      "source": [
        "plt.figure(figsize=(25,4))\n",
        "for i in range(8):\n",
        "    plt.subplot(1,8,i+1)\n",
        "    plt.imshow(x_train[i], cmap='gray')\n",
        "    plt.xticks([])\n",
        "    plt.yticks([])\n",
        "    plt.title(y_train[i])"
      ]
    },
    {
      "cell_type": "markdown",
      "metadata": {
        "id": "VazcvGGRHjZu"
      },
      "source": [
        "## Define model"
      ]
    },
    {
      "cell_type": "code",
      "execution_count": null,
      "metadata": {
        "id": "1TCJHBSUsLSS"
      },
      "outputs": [],
      "source": [
        "def build_model():\n",
        "  return model"
      ]
    },
    {
      "cell_type": "markdown",
      "metadata": {
        "id": "X1QKfUHLKsJ5"
      },
      "source": [
        "## Compile and fit model"
      ]
    },
    {
      "cell_type": "code",
      "execution_count": null,
      "metadata": {
        "id": "1yaeMNzsKxuz"
      },
      "outputs": [],
      "source": [
        "# Compile model\n",
        "\n",
        "# Fit model"
      ]
    },
    {
      "cell_type": "markdown",
      "metadata": {
        "id": "y6hFEj66HnQL"
      },
      "source": [
        "## Load and compile best model"
      ]
    },
    {
      "cell_type": "code",
      "execution_count": null,
      "metadata": {
        "id": "WGMIz6WGHiNM"
      },
      "outputs": [],
      "source": [
        "# load best model\n",
        "\n",
        "# compile best model\n"
      ]
    },
    {
      "cell_type": "markdown",
      "metadata": {
        "id": "Ya1E9pHzLOBG"
      },
      "source": [
        "## Evaluate best model"
      ]
    },
    {
      "cell_type": "code",
      "execution_count": null,
      "metadata": {
        "id": "1iJYPtFXHMFb"
      },
      "outputs": [],
      "source": [
        "# evaluate best model"
      ]
    },
    {
      "cell_type": "markdown",
      "metadata": {
        "id": "J8gdZX4QIN3i"
      },
      "source": [
        "## Get Reports"
      ]
    },
    {
      "cell_type": "code",
      "execution_count": null,
      "metadata": {
        "id": "_rXoX8ybIQnQ"
      },
      "outputs": [],
      "source": [
        "# get report of metrics\n",
        "from sklearn.metrics import classification_report, confusion_matrix\n"
      ]
    }
  ],
  "metadata": {
    "accelerator": "GPU",
    "colab": {
      "provenance": [],
      "toc_visible": true
    },
    "kernelspec": {
      "display_name": "Python 3",
      "language": "python",
      "name": "python3"
    },
    "language_info": {
      "codemirror_mode": {
        "name": "ipython",
        "version": 3
      },
      "file_extension": ".py",
      "mimetype": "text/x-python",
      "name": "python",
      "nbconvert_exporter": "python",
      "pygments_lexer": "ipython3",
      "version": "3.6.8"
    }
  },
  "nbformat": 4,
  "nbformat_minor": 0
}