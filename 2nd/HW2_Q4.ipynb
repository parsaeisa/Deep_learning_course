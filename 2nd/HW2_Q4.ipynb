{
  "nbformat": 4,
  "nbformat_minor": 0,
  "metadata": {
    "accelerator": "GPU",
    "colab": {
      "provenance": [],
      "collapsed_sections": [
        "GrFpZXNQB9FW"
      ],
      "toc_visible": true
    },
    "kernelspec": {
      "name": "python3",
      "display_name": "Python 3"
    }
  },
  "cells": [
    {
      "cell_type": "markdown",
      "metadata": {
        "id": "GrFpZXNQB9FW"
      },
      "source": [
        "#### Copyright 2018 Google LLC."
      ]
    },
    {
      "cell_type": "code",
      "metadata": {
        "id": "43_9Kh8LCDPK"
      },
      "source": [
        "# Licensed under the Apache License, Version 2.0 (the \"License\");\n",
        "# you may not use this file except in compliance with the License.\n",
        "# You may obtain a copy of the License at\n",
        "#\n",
        "# https://www.apache.org/licenses/LICENSE-2.0\n",
        "#\n",
        "# Unless required by applicable law or agreed to in writing, software\n",
        "# distributed under the License is distributed on an \"AS IS\" BASIS,\n",
        "# WITHOUT WARRANTIES OR CONDITIONS OF ANY KIND, either express or implied.\n",
        "# See the License for the specific language governing permissions and\n",
        "# limitations under the License."
      ],
      "execution_count": null,
      "outputs": []
    },
    {
      "cell_type": "markdown",
      "metadata": {
        "id": "YHK6DyunSbs4"
      },
      "source": [
        "# Cat vs. Dog Image Classification\n"
      ]
    },
    {
      "cell_type": "code",
      "metadata": {
        "id": "xvnAdS6YFTQZ"
      },
      "source": [
        "from tensorflow.keras.losses import binary_crossentropy , categorical_crossentropy\n",
        "from tensorflow.keras.activations import sigmoid , tanh , softmax\n",
        "\n",
        "## Set These Parameters\n",
        "last_layer_neurons = 2\n",
        "last_layer_activation = softmax\n",
        "loss_function = categorical_crossentropy"
      ],
      "execution_count": 10,
      "outputs": []
    },
    {
      "cell_type": "code",
      "metadata": {
        "id": "XK-IN_zNgLlT"
      },
      "source": [
        "from tensorflow.keras.preprocessing.image import ImageDataGenerator\n",
        "\n",
        "datagen = ImageDataGenerator(\n",
        "      rotation_range=40,\n",
        "      width_shift_range=0.2,\n",
        "      height_shift_range=0.2,\n",
        "      shear_range=0.2,\n",
        "      zoom_range=0.2,\n",
        "      horizontal_flip=True,\n",
        "      fill_mode='nearest')"
      ],
      "execution_count": 11,
      "outputs": []
    },
    {
      "cell_type": "code",
      "metadata": {
        "id": "dhztKtUSFMXp",
        "colab": {
          "base_uri": "https://localhost:8080/"
        },
        "outputId": "7cdc6933-8b43-4384-b447-a595ed9525dc"
      },
      "source": [
        "!wget --no-check-certificate \\\n",
        "   https://storage.googleapis.com/mledu-datasets/cats_and_dogs_filtered.zip -O \\\n",
        "   /tmp/cats_and_dogs_filtered.zip"
      ],
      "execution_count": 12,
      "outputs": [
        {
          "output_type": "stream",
          "name": "stdout",
          "text": [
            "--2022-11-06 05:16:01--  https://storage.googleapis.com/mledu-datasets/cats_and_dogs_filtered.zip\n",
            "Resolving storage.googleapis.com (storage.googleapis.com)... 74.125.24.128, 172.217.194.128, 142.251.10.128, ...\n",
            "Connecting to storage.googleapis.com (storage.googleapis.com)|74.125.24.128|:443... connected.\n",
            "HTTP request sent, awaiting response... 200 OK\n",
            "Length: 68606236 (65M) [application/zip]\n",
            "Saving to: ‘/tmp/cats_and_dogs_filtered.zip’\n",
            "\n",
            "/tmp/cats_and_dogs_ 100%[===================>]  65.43M  20.6MB/s    in 4.0s    \n",
            "\n",
            "2022-11-06 05:16:05 (16.4 MB/s) - ‘/tmp/cats_and_dogs_filtered.zip’ saved [68606236/68606236]\n",
            "\n"
          ]
        }
      ]
    },
    {
      "cell_type": "code",
      "metadata": {
        "id": "LWkSRoJRfvGL"
      },
      "source": [
        "import os\n",
        "import zipfile\n",
        "\n",
        "local_zip = '/tmp/cats_and_dogs_filtered.zip'\n",
        "zip_ref = zipfile.ZipFile(local_zip, 'r')\n",
        "zip_ref.extractall('/tmp')\n",
        "zip_ref.close()\n",
        "  \n",
        "base_dir = '/tmp/cats_and_dogs_filtered'\n",
        "train_dir = os.path.join(base_dir, 'train')\n",
        "validation_dir = os.path.join(base_dir, 'validation')\n",
        "\n",
        "# Directory with our training cat pictures\n",
        "train_cats_dir = os.path.join(train_dir, 'cats')\n",
        "\n",
        "# Directory with our training dog pictures\n",
        "train_dogs_dir = os.path.join(train_dir, 'dogs')\n",
        "\n",
        "# Directory with our validation cat pictures\n",
        "validation_cats_dir = os.path.join(validation_dir, 'cats')\n",
        "\n",
        "# Directory with our validation dog pictures\n",
        "validation_dogs_dir = os.path.join(validation_dir, 'dogs')\n",
        "\n",
        "train_cat_fnames = os.listdir(train_cats_dir)\n",
        "train_dog_fnames = os.listdir(train_dogs_dir)"
      ],
      "execution_count": 13,
      "outputs": []
    },
    {
      "cell_type": "markdown",
      "metadata": {
        "id": "02r1oXaegECk"
      },
      "source": [
        "Next, let's apply the `datagen` transformations to a cat image from the training set to produce five random variants. Rerun the cell a few times to see fresh batches of random variants."
      ]
    },
    {
      "cell_type": "code",
      "metadata": {
        "id": "e8HgwcAbmdcu",
        "colab": {
          "base_uri": "https://localhost:8080/"
        },
        "outputId": "34699ba8-328a-4177-d4b7-97a7c13e1637"
      },
      "source": [
        "# Adding rescale, rotation_range, width_shift_range, height_shift_range,\n",
        "# shear_range, zoom_range, and horizontal flip to our ImageDataGenerator\n",
        "train_datagen = ImageDataGenerator(\n",
        "    rescale=1./255,\n",
        "    rotation_range=20,\n",
        "    width_shift_range=0.1,\n",
        "    height_shift_range=0.1,\n",
        "    # shear_range=0.2,\n",
        "    # zoom_range=0.2,\n",
        "    horizontal_flip=True,)\n",
        "\n",
        "# Note that the validation data should not be augmented!\n",
        "val_datagen = ImageDataGenerator(rescale=1./255)\n",
        "\n",
        "#\n",
        "class_mode = 'binary' if last_layer_neurons == 1 else 'categorical'\n",
        "\n",
        "# Flow training images in batches of 32 using train_datagen generator\n",
        "train_generator = train_datagen.flow_from_directory(\n",
        "        train_dir,  # This is the source directory for training images\n",
        "        target_size=(150, 150),  # All images will be resized to 150x150\n",
        "        batch_size=20,\n",
        "        # Since we use binary_crossentropy loss, we need binary labels\n",
        "        class_mode=class_mode)\n",
        "\n",
        "# Flow validation images in batches of 32 using val_datagen generator\n",
        "validation_generator = val_datagen.flow_from_directory(\n",
        "        validation_dir,\n",
        "        target_size=(150, 150),\n",
        "        batch_size=20,\n",
        "        class_mode=class_mode)"
      ],
      "execution_count": 14,
      "outputs": [
        {
          "output_type": "stream",
          "name": "stdout",
          "text": [
            "Found 2000 images belonging to 2 classes.\n",
            "Found 1000 images belonging to 2 classes.\n"
          ]
        }
      ]
    },
    {
      "cell_type": "markdown",
      "metadata": {
        "id": "K-3PrfDwDJjB"
      },
      "source": [
        "If we train a new network using this data augmentation configuration, our network will never see the same input twice. However the inputs that it sees are still heavily intercorrelated, so this might not be quite enough to completely get rid of overfitting."
      ]
    },
    {
      "cell_type": "markdown",
      "metadata": {
        "id": "lYguAfH3gyv6"
      },
      "source": [
        "## Building a Small ConvNet\n"
      ]
    },
    {
      "cell_type": "code",
      "metadata": {
        "id": "SVC4FgxiDje6",
        "colab": {
          "base_uri": "https://localhost:8080/"
        },
        "outputId": "e3ef8332-4a46-4235-9279-98d88aa90523"
      },
      "source": [
        "from tensorflow.keras import layers\n",
        "from tensorflow.keras import Model\n",
        "from tensorflow.keras import optimizers\n",
        "\n",
        "# Our input feature map is 150x150x3: 150x150 for the image pixels, and 3 for\n",
        "# the three color channels: R, G, and B\n",
        "img_input = layers.Input(shape=(150, 150, 3))\n",
        "\n",
        "# First convolution extracts 32 filters that are 3x3\n",
        "# Convolution is followed by max-pooling layer with a 2x2 window\n",
        "x = layers.Conv2D(32, 3, activation='relu')(img_input) \n",
        "x = layers.MaxPooling2D(2)(x)\n",
        "\n",
        "# Second convolution extracts 64 filters that are 3x3\n",
        "# Convolution is followed by max-pooling layer with a 2x2 window\n",
        "x = layers.Conv2D(64, 3, activation='relu')(x) \n",
        "x = layers.MaxPooling2D(2)(x)\n",
        "\n",
        "# Third convolution extracts 128 filters that are 3x3\n",
        "# Convolution is followed by max-pooling layer with a 2x2 window\n",
        "x = layers.Convolution2D(128, 3, activation='relu')(x) \n",
        "x = layers.MaxPooling2D(2)(x)\n",
        "\n",
        "# Flatten feature map to a 1-dim tensor\n",
        "x = layers.Flatten()(x)\n",
        "\n",
        "# Create a fully connected layer with ReLU activation and 512 hidden units\n",
        "x = layers.Dense(512, activation='relu')(x) \n",
        "\n",
        "# Add a dropout rate of 0.5\n",
        "x = layers.Dropout(0.2)(x)\n",
        "\n",
        "# add output layer\n",
        "output = layers.Dense(last_layer_neurons, activation=last_layer_activation)(x)\n",
        "\n",
        "# Configure and compile the model\n",
        "model = Model(img_input, output)\n",
        "model.compile(loss=loss_function,\n",
        "              optimizer=optimizers.RMSprop(lr=1e-3),\n",
        "              metrics=['acc'])"
      ],
      "execution_count": 15,
      "outputs": [
        {
          "output_type": "stream",
          "name": "stderr",
          "text": [
            "/usr/local/lib/python3.7/dist-packages/keras/optimizers/optimizer_v2/rmsprop.py:135: UserWarning: The `lr` argument is deprecated, use `learning_rate` instead.\n",
            "  super(RMSprop, self).__init__(name, **kwargs)\n"
          ]
        }
      ]
    },
    {
      "cell_type": "code",
      "metadata": {
        "cellView": "code",
        "id": "SdW6geEVi2S8",
        "colab": {
          "base_uri": "https://localhost:8080/"
        },
        "outputId": "fae19c47-d5db-4f22-f4a0-50aef6953577"
      },
      "source": [
        "history = model.fit(\n",
        "      train_generator,\n",
        "      epochs=50,\n",
        "      validation_data=validation_generator,\n",
        "      verbose=1)"
      ],
      "execution_count": 16,
      "outputs": [
        {
          "output_type": "stream",
          "name": "stdout",
          "text": [
            "Epoch 1/50\n",
            "100/100 [==============================] - 19s 177ms/step - loss: 0.8618 - acc: 0.5280 - val_loss: 0.6733 - val_acc: 0.6150\n",
            "Epoch 2/50\n",
            "100/100 [==============================] - 18s 176ms/step - loss: 0.6683 - acc: 0.6380 - val_loss: 0.5984 - val_acc: 0.6750\n",
            "Epoch 3/50\n",
            "100/100 [==============================] - 18s 180ms/step - loss: 0.6323 - acc: 0.6655 - val_loss: 0.6087 - val_acc: 0.6710\n",
            "Epoch 4/50\n",
            "100/100 [==============================] - 18s 175ms/step - loss: 0.6126 - acc: 0.6710 - val_loss: 0.6547 - val_acc: 0.6510\n",
            "Epoch 5/50\n",
            "100/100 [==============================] - 18s 175ms/step - loss: 0.5855 - acc: 0.6975 - val_loss: 0.5764 - val_acc: 0.6840\n",
            "Epoch 6/50\n",
            "100/100 [==============================] - 17s 174ms/step - loss: 0.5831 - acc: 0.6965 - val_loss: 0.5911 - val_acc: 0.6780\n",
            "Epoch 7/50\n",
            "100/100 [==============================] - 17s 174ms/step - loss: 0.5711 - acc: 0.7120 - val_loss: 0.5660 - val_acc: 0.7240\n",
            "Epoch 8/50\n",
            "100/100 [==============================] - 17s 173ms/step - loss: 0.5555 - acc: 0.7225 - val_loss: 0.5713 - val_acc: 0.7210\n",
            "Epoch 9/50\n",
            "100/100 [==============================] - 17s 174ms/step - loss: 0.5519 - acc: 0.7260 - val_loss: 0.6131 - val_acc: 0.6610\n",
            "Epoch 10/50\n",
            "100/100 [==============================] - 17s 175ms/step - loss: 0.5394 - acc: 0.7280 - val_loss: 0.5536 - val_acc: 0.7410\n",
            "Epoch 11/50\n",
            "100/100 [==============================] - 17s 173ms/step - loss: 0.5268 - acc: 0.7495 - val_loss: 0.5198 - val_acc: 0.7470\n",
            "Epoch 12/50\n",
            "100/100 [==============================] - 17s 174ms/step - loss: 0.5174 - acc: 0.7495 - val_loss: 0.4856 - val_acc: 0.7790\n",
            "Epoch 13/50\n",
            "100/100 [==============================] - 17s 174ms/step - loss: 0.5251 - acc: 0.7545 - val_loss: 0.5567 - val_acc: 0.7310\n",
            "Epoch 14/50\n",
            "100/100 [==============================] - 18s 176ms/step - loss: 0.4958 - acc: 0.7520 - val_loss: 0.9181 - val_acc: 0.6590\n",
            "Epoch 15/50\n",
            "100/100 [==============================] - 17s 175ms/step - loss: 0.4961 - acc: 0.7645 - val_loss: 0.5139 - val_acc: 0.7550\n",
            "Epoch 16/50\n",
            "100/100 [==============================] - 17s 173ms/step - loss: 0.4962 - acc: 0.7770 - val_loss: 0.4796 - val_acc: 0.7800\n",
            "Epoch 17/50\n",
            "100/100 [==============================] - 17s 173ms/step - loss: 0.4859 - acc: 0.7720 - val_loss: 0.5349 - val_acc: 0.7490\n",
            "Epoch 18/50\n",
            "100/100 [==============================] - 17s 174ms/step - loss: 0.4753 - acc: 0.7760 - val_loss: 0.4723 - val_acc: 0.7810\n",
            "Epoch 19/50\n",
            "100/100 [==============================] - 18s 177ms/step - loss: 0.4716 - acc: 0.7805 - val_loss: 0.4835 - val_acc: 0.7570\n",
            "Epoch 20/50\n",
            "100/100 [==============================] - 18s 176ms/step - loss: 0.4662 - acc: 0.7750 - val_loss: 0.4737 - val_acc: 0.7800\n",
            "Epoch 21/50\n",
            "100/100 [==============================] - 18s 178ms/step - loss: 0.4520 - acc: 0.7915 - val_loss: 0.4980 - val_acc: 0.7640\n",
            "Epoch 22/50\n",
            "100/100 [==============================] - 18s 179ms/step - loss: 0.4526 - acc: 0.7975 - val_loss: 0.4893 - val_acc: 0.7640\n",
            "Epoch 23/50\n",
            "100/100 [==============================] - 18s 178ms/step - loss: 0.4497 - acc: 0.7955 - val_loss: 0.4525 - val_acc: 0.7880\n",
            "Epoch 24/50\n",
            "100/100 [==============================] - 18s 179ms/step - loss: 0.4433 - acc: 0.8075 - val_loss: 0.5346 - val_acc: 0.7760\n",
            "Epoch 25/50\n",
            "100/100 [==============================] - 18s 176ms/step - loss: 0.4411 - acc: 0.7935 - val_loss: 0.4505 - val_acc: 0.7970\n",
            "Epoch 26/50\n",
            "100/100 [==============================] - 18s 177ms/step - loss: 0.4305 - acc: 0.8005 - val_loss: 0.4451 - val_acc: 0.7910\n",
            "Epoch 27/50\n",
            "100/100 [==============================] - 18s 177ms/step - loss: 0.4341 - acc: 0.8070 - val_loss: 0.4616 - val_acc: 0.7760\n",
            "Epoch 28/50\n",
            "100/100 [==============================] - 18s 178ms/step - loss: 0.4272 - acc: 0.8170 - val_loss: 0.4978 - val_acc: 0.7660\n",
            "Epoch 29/50\n",
            "100/100 [==============================] - 18s 177ms/step - loss: 0.4097 - acc: 0.8245 - val_loss: 0.5376 - val_acc: 0.7810\n",
            "Epoch 30/50\n",
            "100/100 [==============================] - 17s 175ms/step - loss: 0.4337 - acc: 0.8025 - val_loss: 0.5610 - val_acc: 0.7760\n",
            "Epoch 31/50\n",
            "100/100 [==============================] - 18s 177ms/step - loss: 0.4227 - acc: 0.8095 - val_loss: 0.4916 - val_acc: 0.7740\n",
            "Epoch 32/50\n",
            "100/100 [==============================] - 18s 176ms/step - loss: 0.4114 - acc: 0.8115 - val_loss: 0.4251 - val_acc: 0.8060\n",
            "Epoch 33/50\n",
            "100/100 [==============================] - 18s 178ms/step - loss: 0.4588 - acc: 0.8185 - val_loss: 0.4800 - val_acc: 0.7620\n",
            "Epoch 34/50\n",
            "100/100 [==============================] - 18s 176ms/step - loss: 0.4074 - acc: 0.8145 - val_loss: 0.6304 - val_acc: 0.7760\n",
            "Epoch 35/50\n",
            "100/100 [==============================] - 18s 175ms/step - loss: 0.4079 - acc: 0.8240 - val_loss: 0.4441 - val_acc: 0.7980\n",
            "Epoch 36/50\n",
            "100/100 [==============================] - 18s 176ms/step - loss: 0.4047 - acc: 0.8260 - val_loss: 0.4389 - val_acc: 0.8020\n",
            "Epoch 37/50\n",
            "100/100 [==============================] - 18s 177ms/step - loss: 0.4076 - acc: 0.8315 - val_loss: 0.4428 - val_acc: 0.8040\n",
            "Epoch 38/50\n",
            "100/100 [==============================] - 18s 178ms/step - loss: 0.4074 - acc: 0.8285 - val_loss: 0.4342 - val_acc: 0.8150\n",
            "Epoch 39/50\n",
            "100/100 [==============================] - 18s 177ms/step - loss: 0.4094 - acc: 0.8185 - val_loss: 0.4237 - val_acc: 0.8110\n",
            "Epoch 40/50\n",
            "100/100 [==============================] - 18s 177ms/step - loss: 0.4004 - acc: 0.8240 - val_loss: 0.4632 - val_acc: 0.8120\n",
            "Epoch 41/50\n",
            "100/100 [==============================] - 18s 178ms/step - loss: 0.3892 - acc: 0.8240 - val_loss: 0.4962 - val_acc: 0.7550\n",
            "Epoch 42/50\n",
            "100/100 [==============================] - 18s 177ms/step - loss: 0.3968 - acc: 0.8335 - val_loss: 0.4104 - val_acc: 0.8160\n",
            "Epoch 43/50\n",
            "100/100 [==============================] - 18s 177ms/step - loss: 0.3897 - acc: 0.8235 - val_loss: 0.4824 - val_acc: 0.8010\n",
            "Epoch 44/50\n",
            "100/100 [==============================] - 18s 176ms/step - loss: 0.3970 - acc: 0.8265 - val_loss: 0.4637 - val_acc: 0.8150\n",
            "Epoch 45/50\n",
            "100/100 [==============================] - 18s 177ms/step - loss: 0.3911 - acc: 0.8290 - val_loss: 0.4512 - val_acc: 0.8110\n",
            "Epoch 46/50\n",
            "100/100 [==============================] - 18s 178ms/step - loss: 0.3790 - acc: 0.8370 - val_loss: 0.7044 - val_acc: 0.7550\n",
            "Epoch 47/50\n",
            "100/100 [==============================] - 18s 178ms/step - loss: 0.3720 - acc: 0.8440 - val_loss: 0.4929 - val_acc: 0.8090\n",
            "Epoch 48/50\n",
            "100/100 [==============================] - 18s 179ms/step - loss: 0.3863 - acc: 0.8490 - val_loss: 0.4879 - val_acc: 0.8150\n",
            "Epoch 49/50\n",
            "100/100 [==============================] - 18s 178ms/step - loss: 0.3994 - acc: 0.8400 - val_loss: 0.4140 - val_acc: 0.8230\n",
            "Epoch 50/50\n",
            "100/100 [==============================] - 18s 179ms/step - loss: 0.3852 - acc: 0.8400 - val_loss: 0.4404 - val_acc: 0.8020\n"
          ]
        }
      ]
    },
    {
      "cell_type": "markdown",
      "metadata": {
        "id": "1LTWMLV6SUvP"
      },
      "source": [
        "Note that with data augmentation in place, the 2,000 training images are randomly transformed each time a new training epoch runs, which means that the model will never see the same image twice during training."
      ]
    },
    {
      "cell_type": "markdown",
      "metadata": {
        "id": "IZqvC9UJlWc2"
      },
      "source": [
        "## Evaluate the Results\n",
        "\n",
        "Let's evaluate the results of model training with data augmentation and dropout:"
      ]
    },
    {
      "cell_type": "code",
      "metadata": {
        "id": "NKCjHegASXaA",
        "colab": {
          "base_uri": "https://localhost:8080/",
          "height": 562
        },
        "outputId": "c23b57fe-d879-47e0-9998-e0445d70fca3"
      },
      "source": [
        "from matplotlib import pyplot as plt\n",
        "\n",
        "# Retrieve a list of accuracy results on training and validation data\n",
        "# sets for each training epoch\n",
        "acc = history.history['acc']\n",
        "val_acc = history.history['val_acc']\n",
        "\n",
        "# Retrieve a list of list results on training and validation data\n",
        "# sets for each training epoch\n",
        "loss = history.history['loss']\n",
        "val_loss = history.history['val_loss']\n",
        "\n",
        "# Get number of epochs\n",
        "epochs = range(len(acc))\n",
        "\n",
        "# Plot training and validation accuracy per epoch\n",
        "plt.plot(epochs, acc)\n",
        "plt.plot(epochs, val_acc)\n",
        "plt.title('Training and validation accuracy')\n",
        "\n",
        "plt.figure()\n",
        "\n",
        "# Plot training and validation loss per epoch\n",
        "plt.plot(epochs, loss)\n",
        "plt.plot(epochs, val_loss)\n",
        "plt.title('Training and validation loss')"
      ],
      "execution_count": 18,
      "outputs": [
        {
          "output_type": "execute_result",
          "data": {
            "text/plain": [
              "Text(0.5, 1.0, 'Training and validation loss')"
            ]
          },
          "metadata": {},
          "execution_count": 18
        },
        {
          "output_type": "display_data",
          "data": {
            "text/plain": [
              "<Figure size 432x288 with 1 Axes>"
            ],
            "image/png": "[encoded data removed]"
          },
          "metadata": {
            "needs_background": "light"
          }
        },
        {
          "output_type": "display_data",
          "data": {
            "text/plain": [
              "<Figure size 432x288 with 1 Axes>"
            ],
            "image/png": "[encoded data removed]"
          },
          "metadata": {
            "needs_background": "light"
          }
        }
      ]
    },
    {
      "cell_type": "code",
      "source": [
        "import numpy as np\n",
        "x = 7\n",
        "z = 1/(1 + np.exp(-x))\n",
        "z"
      ],
      "metadata": {
        "colab": {
          "base_uri": "https://localhost:8080/"
        },
        "id": "gKlA01nGfe6X",
        "outputId": "667d1eca-0c25-4dba-92b0-47507546fde2"
      },
      "execution_count": 19,
      "outputs": [
        {
          "output_type": "execute_result",
          "data": {
            "text/plain": [
              "0.9990889488055994"
            ]
          },
          "metadata": {},
          "execution_count": 19
        }
      ]
    }
  ]
}